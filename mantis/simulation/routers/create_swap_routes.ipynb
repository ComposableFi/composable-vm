{
 "cells": [
  {
   "cell_type": "markdown",
   "metadata": {},
   "source": [
    "### Creating swap routes \n",
    "\n",
    "We are going to try to create the swap routes based on the swaps that we get out of the solver. The idea is to figure out what the path is of every token in this network from the set of swaps. One thing we have to watch out for is if things are cycling or something. But we will check. \n",
    "\n",
    "1. Set up the solver and stuff so that we can get the outputs\n",
    "2. Go through the output swaps and create the paths . "
   ]
  },
  {
   "cell_type": "code",
   "execution_count": 1,
   "metadata": {},
   "outputs": [],
   "source": [
    "import pandas as pd \n",
    "\n",
    "from tqdm import tqdm\n",
    "from test_stephon import (\n",
    "    OrderRoutingSimulationEnvironment, \n",
    "    Swap, \n",
    "    solve_with_known_eta, solve_with_unknown_eta, \n",
    "    get_tokens_from_trade\n",
    ") \n"
   ]
  },
  {
   "cell_type": "code",
   "execution_count": 75,
   "metadata": {},
   "outputs": [
    {
     "name": "stdout",
     "output_type": "stream",
     "text": [
      "===============================================================================\n",
      "                                     CVXPY                                     \n",
      "                                     v1.4.1                                    \n",
      "===============================================================================\n",
      "(CVXPY) Jan 31 06:36:17 PM: Your problem has 200 variables, 91 constraints, and 0 parameters.\n",
      "(CVXPY) Jan 31 06:36:17 PM: It is compliant with the following grammars: DCP, DQCP\n",
      "(CVXPY) Jan 31 06:36:17 PM: (If you need to solve this problem multiple times, but with different data, consider using parameters.)\n",
      "(CVXPY) Jan 31 06:36:17 PM: CVXPY will first compile your problem; then, it will invoke a numerical solver to obtain a solution.\n",
      "(CVXPY) Jan 31 06:36:17 PM: Your problem is compiled with the CPP canonicalization backend.\n",
      "-------------------------------------------------------------------------------\n",
      "                                  Compilation                                  \n",
      "-------------------------------------------------------------------------------\n",
      "(CVXPY) Jan 31 06:36:17 PM: Compiling problem (target solver=CLARABEL).\n",
      "(CVXPY) Jan 31 06:36:17 PM: Reduction chain: FlipObjective -> Dcp2Cone -> CvxAttr2Constr -> ConeMatrixStuffing -> CLARABEL\n",
      "(CVXPY) Jan 31 06:36:17 PM: Applying reduction FlipObjective\n",
      "(CVXPY) Jan 31 06:36:17 PM: Applying reduction Dcp2Cone\n",
      "(CVXPY) Jan 31 06:36:17 PM: Applying reduction CvxAttr2Constr\n",
      "(CVXPY) Jan 31 06:36:18 PM: Applying reduction ConeMatrixStuffing\n",
      "(CVXPY) Jan 31 06:36:18 PM: Applying reduction CLARABEL\n",
      "(CVXPY) Jan 31 06:36:18 PM: Finished problem compilation (took 2.311e-01 seconds).\n",
      "-------------------------------------------------------------------------------\n",
      "                                Numerical solver                               \n",
      "-------------------------------------------------------------------------------\n",
      "(CVXPY) Jan 31 06:36:18 PM: Invoking solver CLARABEL  to obtain a solution.\n",
      "-------------------------------------------------------------\n",
      "           Clarabel.rs v0.6.0  -  Clever Acronym              \n",
      "\n",
      "                   (c) Paul Goulart                          \n",
      "                University of Oxford, 2022                   \n",
      "-------------------------------------------------------------\n",
      "\n",
      "problem:\n",
      "  variables     = 230\n",
      "  constraints   = 445\n",
      "  nnz(P)        = 0\n",
      "  nnz(A)        = 900\n",
      "  cones (total) = 31\n",
      "    : Nonnegative = 1,  numel = 355\n",
      "    : SecondOrder = 30,  numel = (3,3,3,3,...,3)\n",
      "\n",
      "settings:\n",
      "  linear algebra: direct / qdldl, precision: 64 bit\n",
      "  max iter = 200, time limit = Inf,  max step = 0.990\n",
      "-------------------------------------------------------------------------------\n",
      "                                    Summary                                    \n",
      "-------------------------------------------------------------------------------\n",
      "(CVXPY) Jan 31 06:36:18 PM: Problem status: optimal_inaccurate\n",
      "  tol_feas = 1.0e-8, tol_gap_abs = 1.0e-8, tol_gap_rel = 1.0e-8,\n",
      "  static reg : on, ϵ1 = 1.0e-8, ϵ2 = 4.9e-32\n",
      "  dynamic reg: on, ϵ = 1.0e-13, δ = 2.0e-7\n",
      "  iter refine: on, reltol = 1.0e-13, abstol = 1.0e-12,\n",
      "               max iter = 10, stop ratio = 5.0\n",
      "  equilibrate: on, min_scale = 1.0e-4, max_scale = 1.0e4\n",
      "               max iter = 10\n",
      "\n",
      "iter    pcost        dcost       gap       pres      dres      k/t        μ       step      \n",
      "---------------------------------------------------------------------------------------------\n",
      "  0  -1.0294e+04  -5.4156e+05  5.16e+01  1.00e+00  2.03e+00  1.00e+00  1.75e+04   ------   \n",
      "  1  -9.5719e+03  -1.2424e+05  1.20e+01  1.38e-01  1.54e-04  3.59e+02  3.81e+03  8.03e-01  \n",
      "  2  -3.8490e+03  -2.4154e+04  5.28e+00  2.48e-02  2.44e-05  6.93e+01  7.40e+02  8.11e-01  \n",
      "  3  +1.2234e+02  -7.1892e+03  5.98e+01  9.79e-03  9.50e-06  3.07e+01  2.96e+02  6.20e-01  \n",
      "  4  +9.4602e+00  -1.0865e+03  1.16e+02  2.12e-03  2.04e-06  2.93e+00  6.43e+01  8.02e-01  \n",
      "  5  -(CVXPY) Jan 31 06:36:18 PM: Optimal value: 1.857e+03\n",
      "1.9723e+03  -3.1403e+03  5.92e-01  1.78e-03  1.71e-06  1.41e+01  5.60e+01  4.97e-01  \n",
      "  6  -1.7242e+03  -1.9107e+03  1.08e-01  4.55e-04  4.37e-07  5.17e+00  1.40e+01  8.23e-01  \n",
      "  7  -1.8381e+03  -1.8696e+03  1.71e-02  9.15e-05  8.79e-08  7.45e-01  2.52e+00  8.44e-01  \n",
      "  8  -1.8464e+03  -1.8581e+03  6.34e-03  5.39e-05  5.18e-08  2.40e-01  1.04e+00  6.34e-01  \n",
      "  9  -1.8513e+03  -1.8560e+03  2.59e-03  4.31e-05  4.14e-08  7.14e-02  4.65e-01  8.59e-01  \n",
      " 10  -1.8558e+03  -1.8567e+03  4.65e-04  1.43e-05  1.31e-08  1.09e-02  8.86e-02  9.08e-01  \n",
      " 11  -1.8566e+03  -1.8568e+03  1.20e-04  4.48e-06  3.93e-09  2.46e-03  2.33e-02  9.90e-01  \n",
      " 12  -1.8569e+03  -1.8569e+03  1.84e-05  7.13e-07  6.18e-10  3.73e-04  3.58e-03  8.66e-01  \n",
      " 13  -1.8569e+03  -1.8569e+03  7.43e-06  2.90e-07  2.53e-10  1.48e-04  1.44e-03  7.68e-01  \n",
      " 14  -1.8569e+03  -1.8569e+03  1.28e-06  5.08e-08  8.44e-11  2.51e-05  2.49e-04  9.51e-01  \n",
      " 15  -1.8569e+03  -1.8569e+03  1.42e-07  5.65e-09  8.17e-11  2.76e-06  2.75e-05  9.75e-01  \n",
      " 16  -1.8569e+03  -1.8569e+03  1.85e-08  7.48e-10  8.19e-11  3.61e-07  3.58e-06  8.72e-01  \n",
      " 17  -1.8569e+03  -1.8569e+03  1.85e-08  7.48e-10  8.19e-11  3.61e-07  3.58e-06  0.00e+00  \n",
      "---------------------------------------------------------------------------------------------\n",
      "Terminated with status = AlmostSolved\n",
      "solve time = 3.814074ms\n",
      "(CVXPY) Jan 31 06:36:18 PM: Compilation took 2.311e-01 seconds\n",
      "(CVXPY) Jan 31 06:36:18 PM: Solver (including time spent in interface) took 4.330e-03 seconds\n"
     ]
    },
    {
     "name": "stderr",
     "output_type": "stream",
     "text": [
      "/home/stephonh/.local/lib/python3.10/site-packages/cvxpy/problems/problem.py:1403: UserWarning: Solution may be inaccurate. Try another solver, adjusting the solver settings, or solve with verbose=True for more information.\n",
      "  warnings.warn(\n",
      " 78%|███████▊  | 31/40 [00:08<00:02,  3.61it/s]"
     ]
    },
    {
     "name": "stdout",
     "output_type": "stream",
     "text": [
      "Failed for t=1.1479206377689625e-07\n"
     ]
    },
    {
     "name": "stderr",
     "output_type": "stream",
     "text": [
      " 80%|████████  | 32/40 [00:08<00:02,  3.56it/s]"
     ]
    },
    {
     "name": "stdout",
     "output_type": "stream",
     "text": [
      "Failed for t=1.2906990992737703e-07\n"
     ]
    },
    {
     "name": "stderr",
     "output_type": "stream",
     "text": [
      " 85%|████████▌ | 34/40 [00:08<00:01,  3.66it/s]"
     ]
    },
    {
     "name": "stdout",
     "output_type": "stream",
     "text": [
      "Failed for t=1.692648951552236e-07\n"
     ]
    },
    {
     "name": "stderr",
     "output_type": "stream",
     "text": [
      " 90%|█████████ | 36/40 [00:09<00:01,  3.61it/s]"
     ]
    },
    {
     "name": "stdout",
     "output_type": "stream",
     "text": [
      "Failed for t=2.933973819682891e-07\n"
     ]
    },
    {
     "name": "stderr",
     "output_type": "stream",
     "text": [
      " 92%|█████████▎| 37/40 [00:09<00:00,  3.88it/s]"
     ]
    },
    {
     "name": "stdout",
     "output_type": "stream",
     "text": [
      "Failed for t=2.999706524818443e-07\n"
     ]
    },
    {
     "name": "stderr",
     "output_type": "stream",
     "text": [
      " 95%|█████████▌| 38/40 [00:10<00:00,  3.72it/s]"
     ]
    },
    {
     "name": "stdout",
     "output_type": "stream",
     "text": [
      "Failed for t=3.778618414783493e-07\n"
     ]
    },
    {
     "name": "stderr",
     "output_type": "stream",
     "text": [
      " 98%|█████████▊| 39/40 [00:10<00:00,  3.53it/s]"
     ]
    },
    {
     "name": "stdout",
     "output_type": "stream",
     "text": [
      "Failed for t=4.82867985511797e-07\n"
     ]
    },
    {
     "name": "stderr",
     "output_type": "stream",
     "text": [
      "100%|██████████| 40/40 [00:10<00:00,  3.78it/s]"
     ]
    },
    {
     "name": "stdout",
     "output_type": "stream",
     "text": [
      "Failed for t=0.02903686110160071\n"
     ]
    },
    {
     "name": "stderr",
     "output_type": "stream",
     "text": [
      "\n"
     ]
    }
   ],
   "source": [
    "chains: dict[str, list[str]] = {\n",
    "\"ETHEREUM\": [\"WETH\", \"USDC\", \"SHIBA\"],\n",
    "'CENTAURI': [],\n",
    "\"OSMOSIS\": [\"ATOM\",\"SCRT\"],\n",
    "}\n",
    "\n",
    "sim_env = OrderRoutingSimulationEnvironment(\n",
    "    center_node='CENTAURI', \n",
    "    max_reserve=1e10, \n",
    "    chains=chains\n",
    ")\n",
    "\n",
    "# Solving with unknnown eta values\n",
    "origin_token = \"WETH\"\n",
    "number_of_init_tokens = 2000 \n",
    "obj_token = \"ATOM\"\n",
    "\n",
    "\n",
    "deltas, lambdas, psi, eta = solve_with_unknown_eta(\n",
    "    origin_token, \n",
    "    number_of_init_tokens, \n",
    "    obj_token, \n",
    "    sim_env.all_tokens, \n",
    "    sim_env.all_cfmms, \n",
    "    sim_env.mapping_matrices\n",
    ")\n",
    "\n",
    "# We go through various values of eta and solve the problem for each of them\n",
    "t_values = sorted([eta[i].value for i in range(len(sim_env.all_cfmms))])    \n",
    "results = {} \n",
    "\n",
    "for j in tqdm(range(len(t_values))):\n",
    "    example_eta = [int(eta[i].value >= t_values[j]) for i in range(len(sim_env.all_cfmms))]\n",
    "\n",
    "    try: \n",
    "        deltas, lambdas, psi, objective = solve_with_known_eta(\n",
    "            origin_token, \n",
    "            number_of_init_tokens, \n",
    "            obj_token, \n",
    "            sim_env.all_tokens, \n",
    "            sim_env.all_cfmms, \n",
    "            sim_env.mapping_matrices,\n",
    "            example_eta\n",
    "        )\n",
    "        \n",
    "        results[j] = {\n",
    "            'deltas': [delta.value for delta in deltas],\n",
    "            'lambdas': [lambda_.value for lambda_ in lambdas],\n",
    "            'psi': psi.value,\n",
    "            'objective': objective.value, \n",
    "            'eta': example_eta,\n",
    "        }\n",
    "        \n",
    "    except:\n",
    "        print(f\"Failed for t={t_values[j]}\")\n",
    "        continue\n",
    "    \n",
    "# Getting the best result by looking at the objective value\n",
    "best_result_key = max(results, key=lambda x: results[x]['objective'])\n",
    "best_result = results[best_result_key]\n",
    "\n",
    "# Taking the best result and getting the trades\n",
    "best_eta = best_result['eta']\n",
    "best_deltas = best_result['deltas']\n",
    "best_lambdas = best_result['lambdas']\n",
    "best_psi = best_result['psi']\n",
    "\n",
    "chosen_cfmms = [cfmm for i, cfmm in enumerate(sim_env.all_cfmms) if best_eta[i] == 1]\n",
    "chosen_mapping_matrices = [mapping_matrix for i, mapping_matrix in enumerate(sim_env.mapping_matrices) if best_eta[i] == 1]\n",
    "chosen_deltas = [delta for i, delta in enumerate(best_deltas) if best_eta[i] == 1]\n",
    "chosen_lambdas = [lambda_ for i, lambda_ in enumerate(best_lambdas) if best_eta[i] == 1]\n",
    "\n",
    "# Creating the swaps from each of these\n",
    "swaps = [] \n",
    "\n",
    "for i in range(len(chosen_cfmms)): \n",
    "    c = chosen_cfmms[i]\n",
    "    m = chosen_mapping_matrices[i]\n",
    "    d = chosen_deltas[i]\n",
    "    l = chosen_lambdas[i]\n",
    "    \n",
    "    trade = m @ (l - d)\n",
    "    \n",
    "    tokens_from_trade = get_tokens_from_trade(trade, sim_env.all_tokens)\n",
    "    \n",
    "    if tokens_from_trade[c.tokens[0]] > 0:\n",
    "        # This means that I got this token out from the CFMM\n",
    "        out_token = c.tokens[0]\n",
    "        in_token = c.tokens[1]\n",
    "    else: \n",
    "        out_token = c.tokens[1]\n",
    "        in_token = c.tokens[0]\n",
    "    \n",
    "    if c.is_transfer: \n",
    "        swap_type = 'transfer'\n",
    "    else: \n",
    "        swap_type = 'swap'\n",
    "        \n",
    "    swaps.append(Swap(in_token, abs(tokens_from_trade[in_token]), out_token, abs(tokens_from_trade[out_token]), swap_type))"
   ]
  },
  {
   "cell_type": "markdown",
   "metadata": {},
   "source": [
    "My idea for creating a route is to start at the origin token and keep a ledger of what is going on.\n",
    "* Start with the start token and figure out where the swaps are where that is the in token\n",
    "* Go through each of the out tokens and figure out where those are going into\n",
    "* Keep going until there are no swaps left. "
   ]
  },
  {
   "cell_type": "code",
   "execution_count": 76,
   "metadata": {},
   "outputs": [
    {
     "data": {
      "text/plain": [
       "[Swap(WETH, 1.733677580142127e-05, SHIBA, 2.2075150244578153e-06, swap),\n",
       " Swap(WETH, 717.4470088986723, CENTAURI/OSMOSIS/ATOM, 684.4736907544932, swap),\n",
       " Swap(WETH, 271.25608387565956, CENTAURI/OSMOSIS/SCRT, 269.9314752518846, swap),\n",
       " Swap(CENTAURI/OSMOSIS/SCRT, 269.9314741323891, CENTAURI/OSMOSIS/ATOM, 254.6989970479676, swap),\n",
       " Swap(ETHEREUM/WETH, 358.8729711085021, ETHEREUM/SHIBA, 345.3315477050431, swap),\n",
       " Swap(ETHEREUM/WETH, 627.9299144295995, OSMOSIS/ATOM, 589.8171779229936, swap),\n",
       " Swap(ETHEREUM/SHIBA, 345.33150550795074, OSMOSIS/ATOM, 340.35866885975435, swap),\n",
       " Swap(ETHEREUM/SHIBA, 4.147506096729254e-05, OSMOSIS/SCRT, 3.0363866243681217e-05, swap),\n",
       " Swap(SCRT, 1.3118478071234895e-05, CENTAURI/ETHEREUM/USDC, 8.174513881165166e-07, swap),\n",
       " Swap(WETH, 1011.2968887532132, ETHEREUM/WETH, 986.8028865721357, transfer),\n",
       " Swap(ETHEREUM/USDC, 1.6714490441154949e-06, USDC, 1.2637392694236498e-06, transfer),\n",
       " Swap(CENTAURI/OSMOSIS/ATOM, 939.1726866380393, OSMOSIS/ATOM, 911.0145935252402, transfer),\n",
       " Swap(OSMOSIS/ATOM, 1841.1904396677062, ATOM, 1794.7325516191295, transfer),\n",
       " Swap(OSMOSIS/SCRT, 2.9652050097442816e-05, SCRT, 1.4435891016997522e-05, transfer)]"
      ]
     },
     "execution_count": 76,
     "metadata": {},
     "output_type": "execute_result"
    }
   ],
   "source": [
    "swaps"
   ]
  },
  {
   "cell_type": "code",
   "execution_count": 77,
   "metadata": {},
   "outputs": [],
   "source": [
    "def find_routes(swaps, start_token, end_token, current_route=None, visited=None):\n",
    "    if current_route is None:\n",
    "        current_route = []\n",
    "    if visited is None:\n",
    "        visited = set()\n",
    "\n",
    "    current_route.append(start_token)\n",
    "    visited.add(start_token)\n",
    "\n",
    "    if start_token == end_token:\n",
    "        return [current_route]\n",
    "\n",
    "    routes = []\n",
    "    for swap in swaps:\n",
    "        if swap.in_token == start_token and swap.out_token not in visited:\n",
    "            new_routes = find_routes(swaps, swap.out_token, end_token, current_route[:], visited.copy())\n",
    "            routes.extend(new_routes)\n",
    "\n",
    "    return routes\n",
    "            \n"
   ]
  },
  {
   "cell_type": "code",
   "execution_count": 78,
   "metadata": {},
   "outputs": [],
   "source": [
    "start_token = 'WETH'\n",
    "end_token = 'ATOM'\n",
    "\n",
    "routes = find_routes(swaps, start_token, end_token)"
   ]
  },
  {
   "cell_type": "code",
   "execution_count": 79,
   "metadata": {},
   "outputs": [],
   "source": [
    "def filter_swaps_by_in_and_out(swaps, in_token, out_token):\n",
    "    return [swap for swap in swaps if swap.in_token == in_token and swap.out_token == out_token]"
   ]
  },
  {
   "cell_type": "code",
   "execution_count": 80,
   "metadata": {},
   "outputs": [
    {
     "name": "stdout",
     "output_type": "stream",
     "text": [
      "['WETH', 'CENTAURI/OSMOSIS/ATOM', 'OSMOSIS/ATOM', 'ATOM']\n",
      "['WETH', 'CENTAURI/OSMOSIS/SCRT', 'CENTAURI/OSMOSIS/ATOM', 'OSMOSIS/ATOM', 'ATOM']\n",
      "['WETH', 'ETHEREUM/WETH', 'ETHEREUM/SHIBA', 'OSMOSIS/ATOM', 'ATOM']\n",
      "['WETH', 'ETHEREUM/WETH', 'OSMOSIS/ATOM', 'ATOM']\n"
     ]
    }
   ],
   "source": [
    "for route in routes: \n",
    "    print(route)"
   ]
  },
  {
   "cell_type": "code",
   "execution_count": 81,
   "metadata": {},
   "outputs": [],
   "source": [
    "# Getting the max length of the routes\n",
    "max_length = max([len(route) for route in routes])"
   ]
  },
  {
   "cell_type": "code",
   "execution_count": 82,
   "metadata": {},
   "outputs": [],
   "source": [
    "levels = {}\n",
    "for i in range(1, max_length):\n",
    "    roots = set([tuple(route[i-1:i+1]) for route in routes if len(route) > i]) \n",
    "    levels[i] = roots\n",
    "    "
   ]
  },
  {
   "cell_type": "code",
   "execution_count": 92,
   "metadata": {},
   "outputs": [
    {
     "data": {
      "text/plain": [
       "{1: {('WETH', 'CENTAURI/OSMOSIS/ATOM'),\n",
       "  ('WETH', 'CENTAURI/OSMOSIS/SCRT'),\n",
       "  ('WETH', 'ETHEREUM/WETH')},\n",
       " 2: {('CENTAURI/OSMOSIS/ATOM', 'OSMOSIS/ATOM'),\n",
       "  ('CENTAURI/OSMOSIS/SCRT', 'CENTAURI/OSMOSIS/ATOM'),\n",
       "  ('ETHEREUM/WETH', 'ETHEREUM/SHIBA'),\n",
       "  ('ETHEREUM/WETH', 'OSMOSIS/ATOM')},\n",
       " 3: {('CENTAURI/OSMOSIS/ATOM', 'OSMOSIS/ATOM'),\n",
       "  ('ETHEREUM/SHIBA', 'OSMOSIS/ATOM'),\n",
       "  ('OSMOSIS/ATOM', 'ATOM')},\n",
       " 4: {('OSMOSIS/ATOM', 'ATOM')}}"
      ]
     },
     "execution_count": 92,
     "metadata": {},
     "output_type": "execute_result"
    }
   ],
   "source": [
    "levels"
   ]
  },
  {
   "cell_type": "code",
   "execution_count": 94,
   "metadata": {},
   "outputs": [
    {
     "name": "stdout",
     "output_type": "stream",
     "text": [
      "('WETH', 'ETHEREUM/WETH')\n",
      "('WETH', 'CENTAURI/OSMOSIS/SCRT')\n",
      "('WETH', 'CENTAURI/OSMOSIS/ATOM')\n",
      "('CENTAURI/OSMOSIS/SCRT', 'CENTAURI/OSMOSIS/ATOM')\n",
      "('ETHEREUM/WETH', 'OSMOSIS/ATOM')\n",
      "('ETHEREUM/WETH', 'ETHEREUM/SHIBA')\n",
      "('CENTAURI/OSMOSIS/ATOM', 'OSMOSIS/ATOM')\n",
      "('ETHEREUM/SHIBA', 'OSMOSIS/ATOM')\n",
      "('OSMOSIS/ATOM', 'ATOM')\n",
      "('CENTAURI/OSMOSIS/ATOM', 'OSMOSIS/ATOM')\n",
      "('OSMOSIS/ATOM', 'ATOM')\n"
     ]
    }
   ],
   "source": [
    "for level, roots in levels.items(): \n",
    "    for s in roots: \n",
    "        print(s)"
   ]
  },
  {
   "cell_type": "code",
   "execution_count": 96,
   "metadata": {},
   "outputs": [
    {
     "name": "stdout",
     "output_type": "stream",
     "text": [
      "For level 1 we have swaps:\n",
      "\n",
      "Swap(WETH, 1011.2968887532132, ETHEREUM/WETH, 986.8028865721357, transfer)\n",
      "Swap(WETH, 271.25608387565956, CENTAURI/OSMOSIS/SCRT, 269.9314752518846, swap)\n",
      "Swap(WETH, 717.4470088986723, CENTAURI/OSMOSIS/ATOM, 684.4736907544932, swap)\n",
      "\n",
      "\n",
      "\n",
      "For level 2 we have swaps:\n",
      "\n",
      "Swap(CENTAURI/OSMOSIS/SCRT, 269.9314741323891, CENTAURI/OSMOSIS/ATOM, 254.6989970479676, swap)\n",
      "Swap(ETHEREUM/WETH, 627.9299144295995, OSMOSIS/ATOM, 589.8171779229936, swap)\n",
      "Swap(ETHEREUM/WETH, 358.8729711085021, ETHEREUM/SHIBA, 345.3315477050431, swap)\n",
      "Swap(CENTAURI/OSMOSIS/ATOM, 939.1726866380393, OSMOSIS/ATOM, 911.0145935252402, transfer)\n",
      "\n",
      "\n",
      "\n",
      "For level 3 we have swaps:\n",
      "\n",
      "Swap(ETHEREUM/SHIBA, 345.33150550795074, OSMOSIS/ATOM, 340.35866885975435, swap)\n",
      "Swap(OSMOSIS/ATOM, 1841.1904396677062, ATOM, 1794.7325516191295, transfer)\n",
      "Swap(CENTAURI/OSMOSIS/ATOM, 939.1726866380393, OSMOSIS/ATOM, 911.0145935252402, transfer)\n",
      "\n",
      "\n",
      "\n",
      "For level 4 we have swaps:\n",
      "\n",
      "Swap(OSMOSIS/ATOM, 1841.1904396677062, ATOM, 1794.7325516191295, transfer)\n",
      "\n",
      "\n",
      "\n"
     ]
    }
   ],
   "source": [
    "for level, roots in levels.items():\n",
    "    swaps_at_level = []\n",
    "    for s in roots: \n",
    "        in_token, out_token = s\n",
    "        filtered_swaps = filter_swaps_by_in_and_out(swaps, in_token, out_token)\n",
    "        swaps_at_level.extend(filtered_swaps)\n",
    "\n",
    "    print(f'For level {level} we have swaps:\\n')\n",
    "    for swap in swaps_at_level: \n",
    "        print(swap)\n",
    "    print('\\n\\n')"
   ]
  },
  {
   "cell_type": "code",
   "execution_count": 85,
   "metadata": {},
   "outputs": [
    {
     "data": {
      "text/plain": [
       "{1: {('WETH', 'CENTAURI/OSMOSIS/ATOM'),\n",
       "  ('WETH', 'CENTAURI/OSMOSIS/SCRT'),\n",
       "  ('WETH', 'ETHEREUM/WETH')},\n",
       " 2: {('CENTAURI/OSMOSIS/ATOM', 'OSMOSIS/ATOM'),\n",
       "  ('CENTAURI/OSMOSIS/SCRT', 'CENTAURI/OSMOSIS/ATOM'),\n",
       "  ('ETHEREUM/WETH', 'ETHEREUM/SHIBA'),\n",
       "  ('ETHEREUM/WETH', 'OSMOSIS/ATOM')},\n",
       " 3: {('CENTAURI/OSMOSIS/ATOM', 'OSMOSIS/ATOM'),\n",
       "  ('ETHEREUM/SHIBA', 'OSMOSIS/ATOM'),\n",
       "  ('OSMOSIS/ATOM', 'ATOM')},\n",
       " 4: {('OSMOSIS/ATOM', 'ATOM')}}"
      ]
     },
     "execution_count": 85,
     "metadata": {},
     "output_type": "execute_result"
    }
   ],
   "source": [
    "levels"
   ]
  },
  {
   "cell_type": "code",
   "execution_count": 87,
   "metadata": {},
   "outputs": [
    {
     "data": {
      "text/plain": [
       "[Swap(WETH, 1.733677580142127e-05, SHIBA, 2.2075150244578153e-06, swap),\n",
       " Swap(WETH, 717.4470088986723, CENTAURI/OSMOSIS/ATOM, 684.4736907544932, swap),\n",
       " Swap(WETH, 271.25608387565956, CENTAURI/OSMOSIS/SCRT, 269.9314752518846, swap),\n",
       " Swap(CENTAURI/OSMOSIS/SCRT, 269.9314741323891, CENTAURI/OSMOSIS/ATOM, 254.6989970479676, swap),\n",
       " Swap(ETHEREUM/WETH, 358.8729711085021, ETHEREUM/SHIBA, 345.3315477050431, swap),\n",
       " Swap(ETHEREUM/WETH, 627.9299144295995, OSMOSIS/ATOM, 589.8171779229936, swap),\n",
       " Swap(ETHEREUM/SHIBA, 345.33150550795074, OSMOSIS/ATOM, 340.35866885975435, swap),\n",
       " Swap(ETHEREUM/SHIBA, 4.147506096729254e-05, OSMOSIS/SCRT, 3.0363866243681217e-05, swap),\n",
       " Swap(SCRT, 1.3118478071234895e-05, CENTAURI/ETHEREUM/USDC, 8.174513881165166e-07, swap),\n",
       " Swap(WETH, 1011.2968887532132, ETHEREUM/WETH, 986.8028865721357, transfer),\n",
       " Swap(ETHEREUM/USDC, 1.6714490441154949e-06, USDC, 1.2637392694236498e-06, transfer),\n",
       " Swap(CENTAURI/OSMOSIS/ATOM, 939.1726866380393, OSMOSIS/ATOM, 911.0145935252402, transfer),\n",
       " Swap(OSMOSIS/ATOM, 1841.1904396677062, ATOM, 1794.7325516191295, transfer),\n",
       " Swap(OSMOSIS/SCRT, 2.9652050097442816e-05, SCRT, 1.4435891016997522e-05, transfer)]"
      ]
     },
     "execution_count": 87,
     "metadata": {},
     "output_type": "execute_result"
    }
   ],
   "source": [
    "swaps"
   ]
  },
  {
   "cell_type": "code",
   "execution_count": null,
   "metadata": {},
   "outputs": [],
   "source": []
  }
 ],
 "metadata": {
  "kernelspec": {
   "display_name": "Python 3",
   "language": "python",
   "name": "python3"
  },
  "language_info": {
   "codemirror_mode": {
    "name": "ipython",
    "version": 3
   },
   "file_extension": ".py",
   "mimetype": "text/x-python",
   "name": "python",
   "nbconvert_exporter": "python",
   "pygments_lexer": "ipython3",
   "version": "3.10.12"
  }
 },
 "nbformat": 4,
 "nbformat_minor": 2
}
