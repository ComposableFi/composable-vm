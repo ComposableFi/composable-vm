{
 "cells": [
  {
   "cell_type": "markdown",
   "metadata": {},
   "source": [
    "### Creating swap routes \n",
    "\n",
    "We are going to try to create the swap routes based on the swaps that we get out of the solver. The idea is to figure out what the path is of every token in this network from the set of swaps. One thing we have to watch out for is if things are cycling or something. But we will check. \n",
    "\n",
    "1. Set up the solver and stuff so that we can get the outputs\n",
    "2. Go through the output swaps and create the paths . "
   ]
  },
  {
   "cell_type": "code",
   "execution_count": 2,
   "metadata": {},
   "outputs": [],
   "source": [
    "import pandas as pd \n",
    "\n",
    "from tqdm import tqdm\n",
    "from test_stephon import (\n",
    "    OrderRoutingSimulationEnvironment, \n",
    "    Swap, \n",
    "    solve_with_known_eta, solve_with_unknown_eta, \n",
    "    get_tokens_from_trade, \n",
    "    populate_chain_dict\n",
    ") \n"
   ]
  },
  {
   "cell_type": "code",
   "execution_count": 3,
   "metadata": {},
   "outputs": [],
   "source": [
    "chains: dict[str, list[str]] = {\n",
    "\"ETHEREUM\": [\"WETH\", \"USDC\", \"SHIBA\"],\n",
    "'CENTAURI': [],\n",
    "\"OSMOSIS\": [\"ATOM\",\"SCRT\"],\n",
    "}\n"
   ]
  },
  {
   "cell_type": "code",
   "execution_count": 4,
   "metadata": {},
   "outputs": [
    {
     "name": "stdout",
     "output_type": "stream",
     "text": [
      "===============================================================================\n",
      "                                     CVXPY                                     \n",
      "                                     v1.4.1                                    \n",
      "===============================================================================\n",
      "(CVXPY) Feb 03 03:19:36 PM: Your problem has 200 variables, 91 constraints, and 0 parameters.\n",
      "(CVXPY) Feb 03 03:19:36 PM: It is compliant with the following grammars: DCP, DQCP\n",
      "(CVXPY) Feb 03 03:19:36 PM: (If you need to solve this problem multiple times, but with different data, consider using parameters.)\n",
      "(CVXPY) Feb 03 03:19:36 PM: CVXPY will first compile your problem; then, it will invoke a numerical solver to obtain a solution.\n",
      "(CVXPY) Feb 03 03:19:36 PM: Your problem is compiled with the CPP canonicalization backend.\n",
      "-------------------------------------------------------------------------------\n",
      "                                  Compilation                                  \n",
      "-------------------------------------------------------------------------------\n",
      "(CVXPY) Feb 03 03:19:36 PM: Compiling problem (target solver=CLARABEL).\n",
      "(CVXPY) Feb 03 03:19:36 PM: Reduction chain: FlipObjective -> Dcp2Cone -> CvxAttr2Constr -> ConeMatrixStuffing -> CLARABEL\n",
      "(CVXPY) Feb 03 03:19:36 PM: Applying reduction FlipObjective\n"
     ]
    },
    {
     "name": "stdout",
     "output_type": "stream",
     "text": [
      "(CVXPY) Feb 03 03:19:36 PM: Applying reduction Dcp2Cone\n",
      "(CVXPY) Feb 03 03:19:36 PM: Applying reduction CvxAttr2Constr\n",
      "(CVXPY) Feb 03 03:19:36 PM: Applying reduction ConeMatrixStuffing\n",
      "(CVXPY) Feb 03 03:19:36 PM: Applying reduction CLARABEL\n",
      "(CVXPY) Feb 03 03:19:36 PM: Finished problem compilation (took 3.009e-01 seconds).\n",
      "-------------------------------------------------------------------------------\n",
      "                                Numerical solver                               \n",
      "-------------------------------------------------------------------------------\n",
      "(CVXPY) Feb 03 03:19:36 PM: Invoking solver CLARABEL  to obtain a solution.\n",
      "-------------------------------------------------------------\n",
      "           Clarabel.rs v0.6.0  -  Clever Acronym              \n",
      "\n",
      "                   (c) Paul Goulart                          \n",
      "                University of Oxford, 2022                   \n",
      "-------------------------------------------------------------\n",
      "\n",
      "problem:\n",
      "  variables     = 230\n",
      "  constraints   = 445\n",
      "  nnz(P)        = 0\n",
      "  nnz(A)        = 900\n",
      "  cones (total) = 31\n",
      "    : Nonnegative = 1,  numel = 355\n",
      "    : SecondOrder = 30,  numel = (3,3,3,3,...,3)\n",
      "\n",
      "settings:\n",
      "  linear algebra: direct / qdldl, precision: 64 bit\n",
      "  max iter = 200, time limit = Inf,  max step = 0.990\n",
      "  tol_feas = 1.0e-8, tol_gap_abs = 1.0e-8, tol_gap_rel = 1.0e-8,\n",
      "  static reg : on, ϵ1 = 1.0e-8, ϵ2 = 4.9e-32\n",
      "  dynamic reg: on, ϵ = 1.0e-13, δ = 2.0e-7\n",
      "  iter refine: on, reltol = 1.0e-13, abstol = 1.0e-12,\n",
      "               max iter = 10, stop ratio = 5.0\n",
      "  equilibrate: on, min_scale = 1.0e-4, max_scale = 1.0e4\n",
      "               max iter = 10\n",
      "\n",
      "iter    pcost        dcost       gap       pres      dres      k/t        μ       step      \n",
      "---------------------------------------------------------------------------------------------\n",
      "  0  -1.0393e+04  -5.4389e+05  5.13e+01  1.00e+00  2.03e+00  1.00e+00  1.74e+04   ------   \n",
      "  1  -9.5778e+03  -1.2587e+05  1.21e+01  1.39e-01  1.56e-04  3.69e+02  3.83e+03  8.01e-01  \n",
      "  2  -3.8965e+03  -2.4497e+04  5.29e+00  2.50e-02  2.46e-05  7.21e+01  7.43e+02  8.12e-01  \n",
      "  3  +1.1133e+02  -7.2756e+03  6.64e+01  9.77e-03  9.50e-06  3.15e+01  2.95e+02  6.23e-01  \n",
      "  4  +4.5297e-01  -1.1208e+03  1.12e+03  2.12e-03  2.05e-06  3.82e+00  6.44e+01  8.07e-01  \n",
      "  5  -1.9691e+03  -2.9577e+03  5.02e-01  1.59e-03  1.54e-06  1.75e+01  5.09e+01  6.97e-01  \n",
      "  6  -1.7638e+03  -1.9081e+03  8.18e-02  3.40e-04  3.28e-07  4.26e+00  1.07e+01  8.43e-01  \n",
      "  7  -1.8353e+03  -1.8625e+03  1.48e-02  7.43e-05  7.15e-08  7.03e-01  2.13e+00  8.21e-01  \n",
      "  8  -1.8408e+03  -1.8497e+03  4.85e-03  3.61e-05  3.47e-08  1.71e-01  7.66e-01  7.75e-01  \n",
      "  9  -1.8464e+03  -1.8493e+03  1.57e-03  1.96e-05  1.88e-08  4.60e-02  2.73e-01  7.72e-01  \n",
      " 10  -1.8487e+03  -1.8495e+03  4.23e-04  8.97e-06  7.70e-09  1.07e-02  7.80e-02  8.24e-01  \n",
      " 11  -1.8494e+03  -1.8496e+03  9.38e-05  3.08e-06  2.63e-09  2.03e-03  1.71e-02  9.43e-01  \n",
      " 12  -1.8496e+03  -1.8497e+03  8.71e-06  3.90e-07  2.26e-09  1.68e-04  1.51e-03  9.13e-01  \n",
      " 13  -1.8497e+03  -1.8497e+03  1.53e-06  8.48e-08  1.87e-09  2.10e-05  2.31e-04  8.65e-01  \n",
      " 14  -1.8497e+03  -1.8497e+03  3.81e-07  2.35e-08  8.95e-10  5.20e-06  6.11e-05  9.90e-01  \n",
      " 15  -1.8497e+03  -1.8497e+03  1.75e-08  1.27e-09  8.83e-10  2.40e-07  2.98e-06  9.57e-01  \n",
      " 16  -1.8497e+03  -1.8497e+03  1.75e-08  1.27e-09  8.83e-10  2.40e-07  2.98e-06  0.00e+00  \n",
      "---------------------------------------------------------------------------------------------\n",
      "Terminated with status = AlmostSolved\n",
      "solve time = 2.139493ms\n",
      "-------------------------------------------------------------------------------\n",
      "                                    Summary                                    \n",
      "-------------------------------------------------------------------------------\n",
      "(CVXPY) Feb 03 03:19:36 PM: Problem status: optimal_inaccurate\n",
      "(CVXPY) Feb 03 03:19:36 PM: Optimal value: 1.850e+03\n",
      "(CVXPY) Feb 03 03:19:36 PM: Compilation took 3.009e-01 seconds\n",
      "(CVXPY) Feb 03 03:19:36 PM: Solver (including time spent in interface) took 2.854e-03 seconds\n"
     ]
    },
    {
     "name": "stderr",
     "output_type": "stream",
     "text": [
      "/home/stephonh/.local/lib/python3.10/site-packages/cvxpy/problems/problem.py:1403: UserWarning: Solution may be inaccurate. Try another solver, adjusting the solver settings, or solve with verbose=True for more information.\n",
      "  warnings.warn(\n",
      " 82%|████████▎ | 33/40 [00:09<00:02,  2.74it/s]"
     ]
    },
    {
     "name": "stdout",
     "output_type": "stream",
     "text": [
      "Failed for t=2.9747100668324343e-07\n"
     ]
    },
    {
     "name": "stderr",
     "output_type": "stream",
     "text": [
      " 85%|████████▌ | 34/40 [00:10<00:02,  2.69it/s]"
     ]
    },
    {
     "name": "stdout",
     "output_type": "stream",
     "text": [
      "Failed for t=4.336210190149225e-07\n"
     ]
    },
    {
     "name": "stderr",
     "output_type": "stream",
     "text": [
      " 90%|█████████ | 36/40 [00:11<00:01,  2.89it/s]"
     ]
    },
    {
     "name": "stdout",
     "output_type": "stream",
     "text": [
      "Failed for t=4.983496287670158e-07\n"
     ]
    },
    {
     "name": "stderr",
     "output_type": "stream",
     "text": [
      " 92%|█████████▎| 37/40 [00:11<00:00,  3.03it/s]"
     ]
    },
    {
     "name": "stdout",
     "output_type": "stream",
     "text": [
      "Failed for t=6.156338140839013e-07\n"
     ]
    },
    {
     "name": "stderr",
     "output_type": "stream",
     "text": [
      " 95%|█████████▌| 38/40 [00:11<00:00,  3.03it/s]"
     ]
    },
    {
     "name": "stdout",
     "output_type": "stream",
     "text": [
      "Failed for t=1.760763014508548e-06\n"
     ]
    },
    {
     "name": "stderr",
     "output_type": "stream",
     "text": [
      " 98%|█████████▊| 39/40 [00:11<00:00,  3.21it/s]"
     ]
    },
    {
     "name": "stdout",
     "output_type": "stream",
     "text": [
      "Failed for t=1.982505608670415e-05\n"
     ]
    },
    {
     "name": "stderr",
     "output_type": "stream",
     "text": [
      "100%|██████████| 40/40 [00:12<00:00,  3.24it/s]"
     ]
    },
    {
     "name": "stdout",
     "output_type": "stream",
     "text": [
      "Failed for t=0.015989005180591064\n"
     ]
    },
    {
     "name": "stderr",
     "output_type": "stream",
     "text": [
      "\n"
     ]
    }
   ],
   "source": [
    "chains: dict[str, list[str]] = {\n",
    "\"ETHEREUM\": [\"WETH\", \"USDC\", \"SHIBA\"],\n",
    "'CENTAURI': [],\n",
    "\"OSMOSIS\": [\"ATOM\",\"SCRT\"],\n",
    "}\n",
    "\n",
    "sim_env = OrderRoutingSimulationEnvironment(\n",
    "    center_node='CENTAURI', \n",
    "    max_reserve=1e10, \n",
    "    chains=chains\n",
    ")\n",
    "\n",
    "# Solving with unknnown eta values\n",
    "origin_token = \"WETH\"\n",
    "number_of_init_tokens = 2000 \n",
    "obj_token = \"ATOM\"\n",
    "\n",
    "\n",
    "deltas, lambdas, psi, eta = solve_with_unknown_eta(\n",
    "    origin_token, \n",
    "    number_of_init_tokens, \n",
    "    obj_token, \n",
    "    sim_env.all_tokens, \n",
    "    sim_env.all_cfmms, \n",
    "    sim_env.mapping_matrices\n",
    ")\n",
    "\n",
    "# We go through various values of eta and solve the problem for each of them\n",
    "t_values = sorted([eta[i].value for i in range(len(sim_env.all_cfmms))])    \n",
    "results = {} \n",
    "\n",
    "for j in tqdm(range(len(t_values))):\n",
    "    example_eta = [int(eta[i].value >= t_values[j]) for i in range(len(sim_env.all_cfmms))]\n",
    "\n",
    "    try: \n",
    "        deltas, lambdas, psi, objective = solve_with_known_eta(\n",
    "            origin_token, \n",
    "            number_of_init_tokens, \n",
    "            obj_token, \n",
    "            sim_env.all_tokens, \n",
    "            sim_env.all_cfmms, \n",
    "            sim_env.mapping_matrices,\n",
    "            example_eta\n",
    "        )\n",
    "        \n",
    "        results[j] = {\n",
    "            'deltas': [delta.value for delta in deltas],\n",
    "            'lambdas': [lambda_.value for lambda_ in lambdas],\n",
    "            'psi': psi.value,\n",
    "            'objective': objective.value, \n",
    "            'eta': example_eta,\n",
    "        }\n",
    "        \n",
    "    except:\n",
    "        print(f\"Failed for t={t_values[j]}\")\n",
    "        continue\n",
    "    \n",
    "# Getting the best result by looking at the objective value\n",
    "best_result_key = max(results, key=lambda x: results[x]['objective'])\n",
    "best_result = results[best_result_key]\n",
    "\n",
    "# Taking the best result and getting the trades\n",
    "best_eta = best_result['eta']\n",
    "best_deltas = best_result['deltas']\n",
    "best_lambdas = best_result['lambdas']\n",
    "best_psi = best_result['psi']\n",
    "\n",
    "chosen_cfmms = [cfmm for i, cfmm in enumerate(sim_env.all_cfmms) if best_eta[i] == 1]\n",
    "chosen_mapping_matrices = [mapping_matrix for i, mapping_matrix in enumerate(sim_env.mapping_matrices) if best_eta[i] == 1]\n",
    "chosen_deltas = [delta for i, delta in enumerate(best_deltas) if best_eta[i] == 1]\n",
    "chosen_lambdas = [lambda_ for i, lambda_ in enumerate(best_lambdas) if best_eta[i] == 1]\n",
    "\n",
    "# Creating the swaps from each of these\n",
    "swaps = [] \n",
    "\n",
    "for i in range(len(chosen_cfmms)): \n",
    "    c = chosen_cfmms[i]\n",
    "    m = chosen_mapping_matrices[i]\n",
    "    d = chosen_deltas[i]\n",
    "    l = chosen_lambdas[i]\n",
    "    \n",
    "    trade = m @ (l - d)\n",
    "    \n",
    "    tokens_from_trade = get_tokens_from_trade(trade, sim_env.all_tokens)\n",
    "    \n",
    "    if tokens_from_trade[c.tokens[0]] > 0:\n",
    "        # This means that I got this token out from the CFMM\n",
    "        out_token = c.tokens[0]\n",
    "        in_token = c.tokens[1]\n",
    "    else: \n",
    "        out_token = c.tokens[1]\n",
    "        in_token = c.tokens[0]\n",
    "    \n",
    "    if c.is_transfer: \n",
    "        swap_type = 'transfer'\n",
    "    else: \n",
    "        swap_type = 'swap'\n",
    "        \n",
    "    swaps.append(Swap(in_token, abs(tokens_from_trade[in_token]), out_token, abs(tokens_from_trade[out_token]), swap_type))"
   ]
  },
  {
   "cell_type": "markdown",
   "metadata": {},
   "source": [
    "My idea for creating a route is to start at the origin token and keep a ledger of what is going on.\n",
    "* Start with the start token and figure out where the swaps are where that is the in token\n",
    "* Go through each of the out tokens and figure out where those are going into\n",
    "* Keep going until there are no swaps left. "
   ]
  },
  {
   "cell_type": "markdown",
   "metadata": {},
   "source": [
    "2/3/2024 -> I'm going to try something out where we are going to turn these swaps into a graph for use later. What's useful for this are: \n",
    "* Testing out if the graph has cycles. If there are cycles, we do not want to consider it\n",
    "* Seeing where things end up. We can save things as a node with values and edges. \n"
   ]
  },
  {
   "cell_type": "code",
   "execution_count": 6,
   "metadata": {},
   "outputs": [],
   "source": [
    "# Getting all the unique tokens in the swaps \n",
    "unique_tokens = set()\n",
    "for swap in swaps: \n",
    "    unique_tokens.add(swap.in_token)\n",
    "    unique_tokens.add(swap.out_token)\n",
    "    \n",
    "edges = {k: [] for k in unique_tokens}\n",
    "\n",
    "for swap in swaps:\n",
    "    edges[swap.in_token].append(swap.out_token)"
   ]
  },
  {
   "cell_type": "code",
   "execution_count": 7,
   "metadata": {},
   "outputs": [],
   "source": [
    "def find_all_paths(graph, start, end, path=[]):\n",
    "    path = path + [start]\n",
    "\n",
    "    if start == end:\n",
    "        return [path]\n",
    "\n",
    "    if start not in graph:\n",
    "        return []\n",
    "\n",
    "    paths = []\n",
    "    for neighbor in graph[start]:\n",
    "        if neighbor not in path:\n",
    "            new_paths = find_all_paths(graph, neighbor, end, path)\n",
    "            for new_path in new_paths:\n",
    "                paths.append(new_path)\n",
    "\n",
    "    return paths\n",
    "\n",
    "paths = find_all_paths(edges, 'WETH', 'ATOM')"
   ]
  },
  {
   "cell_type": "code",
   "execution_count": 8,
   "metadata": {},
   "outputs": [],
   "source": [
    "class Node: \n",
    "    \n",
    "    def __init__(self, token: str, amount: float) -> None:\n",
    "        self.token = token \n",
    "        self.amount = amount\n",
    "        self.directions = []\n",
    "        \n",
    "    def __repr__(self) -> str:\n",
    "        return f'{self.token}({self.amount})'\n",
    "    \n",
    "    def __str__(self) -> str:\n",
    "        return self.__repr__()\n",
    "        \n",
    "class DirectionNode: \n",
    "    \n",
    "    def __init__(self, token: str, amount: float) -> None:\n",
    "        self.token = token \n",
    "        self.amount = amount\n",
    "        \n",
    "    def __repr__(self) -> str:\n",
    "        return f'{self.token}({self.amount})'\n",
    "    \n",
    "    def __str__(self) -> str:\n",
    "        return self.__repr__()"
   ]
  },
  {
   "cell_type": "code",
   "execution_count": 9,
   "metadata": {},
   "outputs": [],
   "source": [
    "# Creating the nodes from the swaps \n",
    "nodes = {token: Node(token, 0) for token in unique_tokens}\n",
    "\n",
    "target_token = 'ATOM'\n",
    "for swap in swaps: \n",
    "    # Upading the amount of the nodes\n",
    "    in_token = swap.in_token\n",
    "    out_token = swap.out_token\n",
    "    nodes[in_token].amount += swap.in_token_amount\n",
    "    \n",
    "    if out_token == target_token:\n",
    "        nodes[out_token].amount += swap.out_token_amount\n",
    "    \n",
    "    # Adding the children\n",
    "    nodes[in_token].directions.append(Swap(in_token, swap.in_token_amount, out_token, swap.out_token_amount, swap.swap_type))"
   ]
  },
  {
   "cell_type": "code",
   "execution_count": 15,
   "metadata": {},
   "outputs": [],
   "source": [
    "import queue\n",
    "starting_token = 'WETH'\n",
    "target_token = 'ATOM'\n",
    "starting_node = nodes[starting_token]\n",
    "visited_nodes = [] \n",
    "\n",
    "# Starting the BFS\n",
    "bfs_queue = queue.SimpleQueue()\n",
    "bfs_queue.put(starting_node)\n",
    "directions = []\n",
    "\n",
    "while not bfs_queue.empty():\n",
    "    current_node = bfs_queue.get()\n",
    "    \n",
    "    # Checking that we have not been here before\n",
    "    if current_node in visited_nodes: \n",
    "        break\n",
    "    else: \n",
    "        visited_nodes.append(current_node)\n",
    "    \n",
    "    if (len(current_node.directions) > 0) and (current_node.token != target_token): \n",
    "        \n",
    "        for direction in current_node.directions: \n",
    "            next_node = nodes[direction.out_token]\n",
    "            bfs_queue.put(next_node)\n",
    "            directions.append(direction)"
   ]
  },
  {
   "cell_type": "code",
   "execution_count": 35,
   "metadata": {},
   "outputs": [],
   "source": [
    "# Simulating going through the token swap process with logs\n",
    "token_swap_queue = queue.SimpleQueue()\n",
    "\n",
    "start_token = 'WETH'\n",
    "target_token = 'ATOM'\n",
    "token_swap_queue.put(start_token)"
   ]
  },
  {
   "cell_type": "code",
   "execution_count": 36,
   "metadata": {},
   "outputs": [
    {
     "name": "stdout",
     "output_type": "stream",
     "text": [
      "Current token: WETH\n",
      "Current amount of WETH: 1999.9999998266978\n",
      "Swapping 129.360528234321 WETH for 121.93361249438505 CENTAURI/OSMOSIS/SCRT\n",
      "Transfering 1870.6394715923768 WETH to 1837.8036049994703 ETHEREUM/WETH\n",
      "**************************************************\n",
      "Current token: CENTAURI/OSMOSIS/SCRT\n",
      "Current amount of CENTAURI/OSMOSIS/SCRT: 121.93361239423511\n",
      "Swapping 121.93361152222951 CENTAURI/OSMOSIS/SCRT for 114.28795352775184 USDC\n",
      "Swapping 8.720056063330801e-07 CENTAURI/OSMOSIS/SCRT for 6.718211867454115e-08 CENTAURI/OSMOSIS/ATOM\n",
      "**************************************************\n",
      "Current token: ETHEREUM/WETH\n",
      "Current amount of ETHEREUM/WETH: 1837.803604940107\n",
      "Swapping 957.6574148473323 ETHEREUM/WETH for 883.1715941069597 OSMOSIS/ATOM\n",
      "Transfering 880.1461900927748 ETHEREUM/WETH to 867.6675777662083 CENTAURI/ETHEREUM/WETH\n",
      "**************************************************\n",
      "Current token: USDC\n",
      "Current amount of USDC: 114.28795347929676\n",
      "Transfering 114.28795347929676 USDC to 112.37686731962603 ETHEREUM/USDC\n",
      "**************************************************\n",
      "Current token: CENTAURI/OSMOSIS/ATOM\n",
      "Current amount of CENTAURI/OSMOSIS/ATOM: 0\n",
      "**************************************************\n",
      "Current token: OSMOSIS/ATOM\n",
      "Current amount of OSMOSIS/ATOM: 883.1715939810391\n",
      "Transfering 883.1715939810391 OSMOSIS/ATOM to 866.3874718490118 ATOM\n",
      "**************************************************\n",
      "Current token: CENTAURI/ETHEREUM/WETH\n",
      "Current amount of CENTAURI/ETHEREUM/WETH: 867.6675777162072\n",
      "Swapping 867.6675777162072 CENTAURI/ETHEREUM/WETH for 787.0774524443276 ATOM\n",
      "**************************************************\n",
      "Current token: ETHEREUM/USDC\n",
      "Current amount of ETHEREUM/USDC: 112.37686726392714\n",
      "Swapping 1.314599195557229e-06 ETHEREUM/USDC for 7.767854383622419e-07 ETHEREUM/SHIBA\n",
      "Swapping 5.655529639430152e-07 ETHEREUM/USDC for 1.2431901581322603e-07 OSMOSIS/SCRT\n",
      "Transfering 112.37686538377498 ETHEREUM/USDC to 110.02075743020849 CENTAURI/ETHEREUM/USDC\n",
      "**************************************************\n",
      "Current token: ETHEREUM/SHIBA\n",
      "Current amount of ETHEREUM/SHIBA: 7.410866456547524e-07\n",
      "Transfering 7.410866456547524e-07 ETHEREUM/SHIBA to 1.8984095344084177e-07 SHIBA\n",
      "**************************************************\n",
      "Current token: OSMOSIS/SCRT\n",
      "Current amount of OSMOSIS/SCRT: 0\n",
      "**************************************************\n",
      "Current token: CENTAURI/ETHEREUM/USDC\n",
      "Current amount of CENTAURI/ETHEREUM/USDC: 110.02075713364893\n",
      "Swapping 110.02075713364893 CENTAURI/ETHEREUM/USDC for 108.48588612415956 ATOM\n",
      "**************************************************\n",
      "Current token: SHIBA\n",
      "Current amount of SHIBA: 0\n",
      "**************************************************\n"
     ]
    }
   ],
   "source": [
    "while token_swap_queue.qsize() > 0: \n",
    "    # Getting the current token\n",
    "    current_token = token_swap_queue.get()\n",
    "    current_amount = nodes[current_token].amount\n",
    "    \n",
    "    print(f\"Current token: {current_token}\")\n",
    "    print(f'Current amount of {current_token}: {current_amount}')\n",
    "    \n",
    "    directions = nodes[current_token].directions\n",
    "    \n",
    "    for direction in directions: \n",
    "        if direction.swap_type == 'transfer': \n",
    "            print(f\"Transfering {direction.in_token_amount} {direction.in_token} to {direction.out_token_amount} {direction.out_token}\")\n",
    "        else: \n",
    "            print(f\"Swapping {direction.in_token_amount} {direction.in_token} for {direction.out_token_amount} {direction.out_token}\")\n",
    "    \n",
    "    \n",
    "    print(\"*\" * 50)\n",
    "    # Look for the swaps that have this token as the input and are not the \n",
    "    next_tokens = [x.out_token for x in directions if x.out_token != target_token]\n",
    "    \n",
    "    # Append the next token to the queue\n",
    "    for token in next_tokens: \n",
    "        token_swap_queue.put(token)"
   ]
  },
  {
   "cell_type": "code",
   "execution_count": null,
   "metadata": {},
   "outputs": [],
   "source": []
  }
 ],
 "metadata": {
  "kernelspec": {
   "display_name": "Python 3",
   "language": "python",
   "name": "python3"
  },
  "language_info": {
   "codemirror_mode": {
    "name": "ipython",
    "version": 3
   },
   "file_extension": ".py",
   "mimetype": "text/x-python",
   "name": "python",
   "nbconvert_exporter": "python",
   "pygments_lexer": "ipython3",
   "version": "3.10.12"
  }
 },
 "nbformat": 4,
 "nbformat_minor": 2
}
